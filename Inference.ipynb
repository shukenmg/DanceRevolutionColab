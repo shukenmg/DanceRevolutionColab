{
  "nbformat": 4,
  "nbformat_minor": 0,
  "metadata": {
    "colab": {
      "name": "Inference.ipynb",
      "provenance": [],
      "toc_visible": true,
      "authorship_tag": "ABX9TyNdr7hvmI7bpFc4e0v2dikd",
      "include_colab_link": true
    },
    "kernelspec": {
      "name": "python3",
      "display_name": "Python 3"
    },
    "language_info": {
      "name": "python"
    },
    "accelerator": "GPU",
    "gpuClass": "standard"
  },
  "cells": [
    {
      "cell_type": "markdown",
      "metadata": {
        "id": "view-in-github",
        "colab_type": "text"
      },
      "source": [
        "<a href=\"https://colab.research.google.com/github/shukenmg/DanceRevolutionColab/blob/master/Inference.ipynb\" target=\"_parent\"><img src=\"https://colab.research.google.com/assets/colab-badge.svg\" alt=\"Open In Colab\"/></a>"
      ]
    },
    {
      "cell_type": "code",
      "execution_count": null,
      "metadata": {
        "id": "NIyyr-CANrL1"
      },
      "outputs": [],
      "source": [
        "!git clone https://github.com/shukenmg/DanceRevolutionColab.git\n",
        "%cd DanceRevolutionColab\n"
      ]
    },
    {
      "cell_type": "code",
      "source": [
        "!pip install -r ./requirements.txt --use-deprecated=legacy-resolver\n",
        "!pip install essentia"
      ],
      "metadata": {
        "id": "VFFBTEDzNxiG"
      },
      "execution_count": null,
      "outputs": []
    },
    {
      "cell_type": "code",
      "source": [
        "!mkdir ./checkpoints\n",
        "!mkdir ./music\n",
        "\n",
        "%cd ./checkpoints\n",
        "!gdown --id 1BlqXygWtOd9lpGgkdmAUU3eV7rV1fQRR\n",
        "%cd ..\n"
      ],
      "metadata": {
        "id": "5tYm3jQscgEZ"
      },
      "execution_count": null,
      "outputs": []
    },
    {
      "cell_type": "code",
      "source": [
        "!python3 ./inference.py --test_dir ./music --output_dir ./outputs/music --model ./checkpoints/epoch_5500.pt --dance_num 6"
      ],
      "metadata": {
        "id": "jYe3wLqHRXA1"
      },
      "execution_count": null,
      "outputs": []
    }
  ]
}