{
  "nbformat": 4,
  "nbformat_minor": 0,
  "metadata": {
    "colab": {
      "name": "Untitled0.ipynb",
      "provenance": [],
      "authorship_tag": "ABX9TyN5CrWMCAnNQxNXFFHbM3fj",
      "include_colab_link": true
    },
    "kernelspec": {
      "name": "python3",
      "display_name": "Python 3"
    },
    "language_info": {
      "name": "python"
    },
    "accelerator": "GPU",
    "gpuClass": "standard"
  },
  "cells": [
    {
      "cell_type": "markdown",
      "metadata": {
        "id": "view-in-github",
        "colab_type": "text"
      },
      "source": [
        "<a href=\"https://colab.research.google.com/github/shukenmg/DanceRevolutionColab/blob/master/Inference.ipynb\" target=\"_parent\"><img src=\"https://colab.research.google.com/assets/colab-badge.svg\" alt=\"Open In Colab\"/></a>"
      ]
    },
    {
      "cell_type": "code",
      "execution_count": null,
      "metadata": {
        "id": "NIyyr-CANrL1"
      },
      "outputs": [],
      "source": [
        "!git clone https://github.com/stonyhu/DanceRevolution.git\n",
        "%cd DanceRevolution\n"
      ]
    },
    {
      "cell_type": "code",
      "source": [
        "!pip install -r ./requirements.txt --use-deprecated=legacy-resolver\n",
        "!pip install essentia"
      ],
      "metadata": {
        "id": "VFFBTEDzNxiG"
      },
      "execution_count": null,
      "outputs": []
    },
    {
      "cell_type": "code",
      "source": [
        "!mkdir ./checkpoints\n",
        "!mkdir ./music\n",
        "\n",
        "%cd ./checkpoints\n",
        "!gdown --id 1BlqXygWtOd9lpGgkdmAUU3eV7rV1fQRR\n",
        "%cd ..\n"
      ],
      "metadata": {
        "id": "5tYm3jQscgEZ"
      },
      "execution_count": null,
      "outputs": []
    },
    {
      "cell_type": "code",
      "source": [
        "!python3 ./inference.py --test_dir ./music/ChikiBang --output_dir ./outputs/demo_song --model ./checkpoints/epoch_5500.pt --dance_num 6"
      ],
      "metadata": {
        "id": "jYe3wLqHRXA1"
      },
      "execution_count": null,
      "outputs": []
    }
  ]
}