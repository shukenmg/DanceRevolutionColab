{
  "nbformat": 4,
  "nbformat_minor": 0,
  "metadata": {
    "colab": {
      "name": "Untitled0.ipynb",
      "provenance": [],
      "authorship_tag": "ABX9TyN5CrWMCAnNQxNXFFHbM3fj",
      "include_colab_link": true
    },
    "kernelspec": {
      "name": "python3",
      "display_name": "Python 3"
    },
    "language_info": {
      "name": "python"
    },
    "accelerator": "GPU",
    "gpuClass": "standard"
  },
  "cells": [
    {
      "cell_type": "markdown",
      "metadata": {
        "id": "view-in-github",
        "colab_type": "text"
      },
      "source": [
        "<a href=\"https://colab.research.google.com/github/shukenmg/DanceRevolutionColab/blob/master/Inference.ipynb\" target=\"_parent\"><img src=\"https://colab.research.google.com/assets/colab-badge.svg\" alt=\"Open In Colab\"/></a>"
      ]
    },
    {
      "cell_type": "code",
      "execution_count": 1,
      "metadata": {
        "colab": {
          "base_uri": "https://localhost:8080/"
        },
        "id": "NIyyr-CANrL1",
        "outputId": "cfd0cb93-be2e-481a-fca1-0aada2009dd3"
      },
      "outputs": [
        {
          "output_type": "stream",
          "name": "stdout",
          "text": [
            "Cloning into 'DanceRevolution'...\n",
            "remote: Enumerating objects: 1032, done.\u001b[K\n",
            "remote: Counting objects: 100% (13/13), done.\u001b[K\n",
            "remote: Compressing objects: 100% (12/12), done.\u001b[K\n",
            "remote: Total 1032 (delta 2), reused 10 (delta 1), pack-reused 1019\u001b[K\n",
            "Receiving objects: 100% (1032/1032), 242.94 MiB | 40.19 MiB/s, done.\n",
            "Resolving deltas: 100% (477/477), done.\n",
            "Checking out files: 100% (107/107), done.\n",
            "/content/DanceRevolution\n"
          ]
        }
      ],
      "source": [
        "!git clone https://github.com/stonyhu/DanceRevolution.git\n",
        "%cd DanceRevolution\n"
      ]
    },
    {
      "cell_type": "code",
      "source": [
        "!pip install -r ./requirements.txt --use-deprecated=legacy-resolver\n",
        "!pip install essentia"
      ],
      "metadata": {
        "colab": {
          "base_uri": "https://localhost:8080/"
        },
        "id": "VFFBTEDzNxiG",
        "outputId": "267e63e8-bd6b-4741-d9fe-b57911ae0f7b"
      },
      "execution_count": 2,
      "outputs": [
        {
          "output_type": "stream",
          "name": "stdout",
          "text": [
            "Looking in indexes: https://pypi.org/simple, https://us-python.pkg.dev/colab-wheels/public/simple/\n",
            "Collecting torch==1.6.0\n",
            "  Downloading torch-1.6.0-cp37-cp37m-manylinux1_x86_64.whl (748.8 MB)\n",
            "\u001b[K     |████████████████████████████████| 748.8 MB 17 kB/s \n",
            "\u001b[?25hCollecting transformers==2.5.1\n",
            "  Downloading transformers-2.5.1-py3-none-any.whl (499 kB)\n",
            "\u001b[K     |████████████████████████████████| 499 kB 66.3 MB/s \n",
            "\u001b[?25hCollecting tensorboardX==1.6.0\n",
            "  Downloading tensorboardX-1.6-py2.py3-none-any.whl (129 kB)\n",
            "\u001b[K     |████████████████████████████████| 129 kB 71.5 MB/s \n",
            "\u001b[?25hCollecting pytorch-lightning==0.6.0\n",
            "  Downloading pytorch-lightning-0.6.0.tar.gz (95 kB)\n",
            "\u001b[K     |████████████████████████████████| 95 kB 3.2 MB/s \n",
            "\u001b[?25hCollecting test-tube==0.7.5\n",
            "  Downloading test_tube-0.7.5.tar.gz (21 kB)\n",
            "Requirement already satisfied: numpy in /usr/local/lib/python3.7/dist-packages (from torch==1.6.0->-r ./requirements.txt (line 1)) (1.21.6)\n",
            "Requirement already satisfied: future in /usr/local/lib/python3.7/dist-packages (from torch==1.6.0->-r ./requirements.txt (line 1)) (0.16.0)\n",
            "Collecting boto3\n",
            "  Downloading boto3-1.24.12-py3-none-any.whl (132 kB)\n",
            "\u001b[K     |████████████████████████████████| 132 kB 69.0 MB/s \n",
            "\u001b[?25hRequirement already satisfied: filelock in /usr/local/lib/python3.7/dist-packages (from transformers==2.5.1->-r ./requirements.txt (line 2)) (3.7.1)\n",
            "Requirement already satisfied: requests in /usr/local/lib/python3.7/dist-packages (from transformers==2.5.1->-r ./requirements.txt (line 2)) (2.23.0)\n",
            "Requirement already satisfied: tqdm>=4.27 in /usr/local/lib/python3.7/dist-packages (from transformers==2.5.1->-r ./requirements.txt (line 2)) (4.64.0)\n",
            "Collecting tokenizers==0.5.2\n",
            "  Downloading tokenizers-0.5.2-cp37-cp37m-manylinux1_x86_64.whl (5.6 MB)\n",
            "\u001b[K     |████████████████████████████████| 5.6 MB 51.0 MB/s \n",
            "\u001b[?25hCollecting sentencepiece\n",
            "  Downloading sentencepiece-0.1.96-cp37-cp37m-manylinux_2_17_x86_64.manylinux2014_x86_64.whl (1.2 MB)\n",
            "\u001b[K     |████████████████████████████████| 1.2 MB 62.1 MB/s \n",
            "\u001b[?25hCollecting sacremoses\n",
            "  Downloading sacremoses-0.0.53.tar.gz (880 kB)\n",
            "\u001b[K     |████████████████████████████████| 880 kB 65.8 MB/s \n",
            "\u001b[?25hRequirement already satisfied: regex!=2019.12.17 in /usr/local/lib/python3.7/dist-packages (from transformers==2.5.1->-r ./requirements.txt (line 2)) (2022.6.2)\n",
            "Requirement already satisfied: six in /usr/local/lib/python3.7/dist-packages (from tensorboardX==1.6.0->-r ./requirements.txt (line 3)) (1.15.0)\n",
            "Requirement already satisfied: protobuf>=3.2.0 in /usr/local/lib/python3.7/dist-packages (from tensorboardX==1.6.0->-r ./requirements.txt (line 3)) (3.17.3)\n",
            "Requirement already satisfied: scikit-learn>=0.20.2 in /usr/local/lib/python3.7/dist-packages (from pytorch-lightning==0.6.0->-r ./requirements.txt (line 4)) (1.0.2)\n",
            "Collecting torchvision<0.5,>=0.4.0\n",
            "  Downloading torchvision-0.4.2-cp37-cp37m-manylinux1_x86_64.whl (10.2 MB)\n",
            "\u001b[K     |████████████████████████████████| 10.2 MB 40.7 MB/s \n",
            "\u001b[?25hRequirement already satisfied: pandas>=0.24 in /usr/local/lib/python3.7/dist-packages (from pytorch-lightning==0.6.0->-r ./requirements.txt (line 4)) (1.3.5)\n",
            "Requirement already satisfied: tensorboard>=1.14 in /usr/local/lib/python3.7/dist-packages (from pytorch-lightning==0.6.0->-r ./requirements.txt (line 4)) (2.8.0)\n",
            "Requirement already satisfied: imageio>=2.3.0 in /usr/local/lib/python3.7/dist-packages (from test-tube==0.7.5->-r ./requirements.txt (line 5)) (2.4.1)\n",
            "Collecting jmespath<2.0.0,>=0.7.1\n",
            "  Downloading jmespath-1.0.1-py3-none-any.whl (20 kB)\n",
            "Collecting botocore<1.28.0,>=1.27.12\n",
            "  Downloading botocore-1.27.12-py3-none-any.whl (8.9 MB)\n",
            "\u001b[K     |████████████████████████████████| 8.9 MB 51.9 MB/s \n",
            "\u001b[?25hCollecting s3transfer<0.7.0,>=0.6.0\n",
            "  Downloading s3transfer-0.6.0-py3-none-any.whl (79 kB)\n",
            "\u001b[K     |████████████████████████████████| 79 kB 8.9 MB/s \n",
            "\u001b[?25hRequirement already satisfied: idna<3,>=2.5 in /usr/local/lib/python3.7/dist-packages (from requests->transformers==2.5.1->-r ./requirements.txt (line 2)) (2.10)\n",
            "Requirement already satisfied: urllib3!=1.25.0,!=1.25.1,<1.26,>=1.21.1 in /usr/local/lib/python3.7/dist-packages (from requests->transformers==2.5.1->-r ./requirements.txt (line 2)) (1.24.3)\n",
            "Requirement already satisfied: certifi>=2017.4.17 in /usr/local/lib/python3.7/dist-packages (from requests->transformers==2.5.1->-r ./requirements.txt (line 2)) (2022.6.15)\n",
            "Requirement already satisfied: chardet<4,>=3.0.2 in /usr/local/lib/python3.7/dist-packages (from requests->transformers==2.5.1->-r ./requirements.txt (line 2)) (3.0.4)\n",
            "Requirement already satisfied: click in /usr/local/lib/python3.7/dist-packages (from sacremoses->transformers==2.5.1->-r ./requirements.txt (line 2)) (7.1.2)\n",
            "Requirement already satisfied: joblib in /usr/local/lib/python3.7/dist-packages (from sacremoses->transformers==2.5.1->-r ./requirements.txt (line 2)) (1.1.0)\n",
            "Requirement already satisfied: scipy>=1.1.0 in /usr/local/lib/python3.7/dist-packages (from scikit-learn>=0.20.2->pytorch-lightning==0.6.0->-r ./requirements.txt (line 4)) (1.4.1)\n",
            "Requirement already satisfied: threadpoolctl>=2.0.0 in /usr/local/lib/python3.7/dist-packages (from scikit-learn>=0.20.2->pytorch-lightning==0.6.0->-r ./requirements.txt (line 4)) (3.1.0)\n",
            "Requirement already satisfied: pillow>=4.1.1 in /usr/local/lib/python3.7/dist-packages (from torchvision<0.5,>=0.4.0->pytorch-lightning==0.6.0->-r ./requirements.txt (line 4)) (7.1.2)\n",
            "Requirement already satisfied: pytz>=2017.3 in /usr/local/lib/python3.7/dist-packages (from pandas>=0.24->pytorch-lightning==0.6.0->-r ./requirements.txt (line 4)) (2022.1)\n",
            "Requirement already satisfied: python-dateutil>=2.7.3 in /usr/local/lib/python3.7/dist-packages (from pandas>=0.24->pytorch-lightning==0.6.0->-r ./requirements.txt (line 4)) (2.8.2)\n",
            "Requirement already satisfied: tensorboard-plugin-wit>=1.6.0 in /usr/local/lib/python3.7/dist-packages (from tensorboard>=1.14->pytorch-lightning==0.6.0->-r ./requirements.txt (line 4)) (1.8.1)\n",
            "Requirement already satisfied: wheel>=0.26 in /usr/local/lib/python3.7/dist-packages (from tensorboard>=1.14->pytorch-lightning==0.6.0->-r ./requirements.txt (line 4)) (0.37.1)\n",
            "Requirement already satisfied: markdown>=2.6.8 in /usr/local/lib/python3.7/dist-packages (from tensorboard>=1.14->pytorch-lightning==0.6.0->-r ./requirements.txt (line 4)) (3.3.7)\n",
            "Requirement already satisfied: tensorboard-data-server<0.7.0,>=0.6.0 in /usr/local/lib/python3.7/dist-packages (from tensorboard>=1.14->pytorch-lightning==0.6.0->-r ./requirements.txt (line 4)) (0.6.1)\n",
            "Requirement already satisfied: google-auth<3,>=1.6.3 in /usr/local/lib/python3.7/dist-packages (from tensorboard>=1.14->pytorch-lightning==0.6.0->-r ./requirements.txt (line 4)) (1.35.0)\n",
            "Requirement already satisfied: absl-py>=0.4 in /usr/local/lib/python3.7/dist-packages (from tensorboard>=1.14->pytorch-lightning==0.6.0->-r ./requirements.txt (line 4)) (1.1.0)\n",
            "Requirement already satisfied: setuptools>=41.0.0 in /usr/local/lib/python3.7/dist-packages (from tensorboard>=1.14->pytorch-lightning==0.6.0->-r ./requirements.txt (line 4)) (57.4.0)\n",
            "Requirement already satisfied: werkzeug>=0.11.15 in /usr/local/lib/python3.7/dist-packages (from tensorboard>=1.14->pytorch-lightning==0.6.0->-r ./requirements.txt (line 4)) (1.0.1)\n",
            "Requirement already satisfied: google-auth-oauthlib<0.5,>=0.4.1 in /usr/local/lib/python3.7/dist-packages (from tensorboard>=1.14->pytorch-lightning==0.6.0->-r ./requirements.txt (line 4)) (0.4.6)\n",
            "Requirement already satisfied: grpcio>=1.24.3 in /usr/local/lib/python3.7/dist-packages (from tensorboard>=1.14->pytorch-lightning==0.6.0->-r ./requirements.txt (line 4)) (1.46.3)\n",
            "Requirement already satisfied: importlib-metadata>=4.4; python_version < \"3.10\" in /usr/local/lib/python3.7/dist-packages (from markdown>=2.6.8->tensorboard>=1.14->pytorch-lightning==0.6.0->-r ./requirements.txt (line 4)) (4.11.4)\n",
            "Requirement already satisfied: rsa<5,>=3.1.4; python_version >= \"3.6\" in /usr/local/lib/python3.7/dist-packages (from google-auth<3,>=1.6.3->tensorboard>=1.14->pytorch-lightning==0.6.0->-r ./requirements.txt (line 4)) (4.8)\n",
            "Requirement already satisfied: cachetools<5.0,>=2.0.0 in /usr/local/lib/python3.7/dist-packages (from google-auth<3,>=1.6.3->tensorboard>=1.14->pytorch-lightning==0.6.0->-r ./requirements.txt (line 4)) (4.2.4)\n",
            "Requirement already satisfied: pyasn1-modules>=0.2.1 in /usr/local/lib/python3.7/dist-packages (from google-auth<3,>=1.6.3->tensorboard>=1.14->pytorch-lightning==0.6.0->-r ./requirements.txt (line 4)) (0.2.8)\n",
            "Requirement already satisfied: requests-oauthlib>=0.7.0 in /usr/local/lib/python3.7/dist-packages (from google-auth-oauthlib<0.5,>=0.4.1->tensorboard>=1.14->pytorch-lightning==0.6.0->-r ./requirements.txt (line 4)) (1.3.1)\n",
            "Requirement already satisfied: typing-extensions>=3.6.4; python_version < \"3.8\" in /usr/local/lib/python3.7/dist-packages (from importlib-metadata>=4.4; python_version < \"3.10\"->markdown>=2.6.8->tensorboard>=1.14->pytorch-lightning==0.6.0->-r ./requirements.txt (line 4)) (4.1.1)\n",
            "Requirement already satisfied: zipp>=0.5 in /usr/local/lib/python3.7/dist-packages (from importlib-metadata>=4.4; python_version < \"3.10\"->markdown>=2.6.8->tensorboard>=1.14->pytorch-lightning==0.6.0->-r ./requirements.txt (line 4)) (3.8.0)\n",
            "Requirement already satisfied: pyasn1>=0.1.3 in /usr/local/lib/python3.7/dist-packages (from rsa<5,>=3.1.4; python_version >= \"3.6\"->google-auth<3,>=1.6.3->tensorboard>=1.14->pytorch-lightning==0.6.0->-r ./requirements.txt (line 4)) (0.4.8)\n",
            "Requirement already satisfied: oauthlib>=3.0.0 in /usr/local/lib/python3.7/dist-packages (from requests-oauthlib>=0.7.0->google-auth-oauthlib<0.5,>=0.4.1->tensorboard>=1.14->pytorch-lightning==0.6.0->-r ./requirements.txt (line 4)) (3.2.0)\n",
            "Building wheels for collected packages: pytorch-lightning, test-tube, sacremoses\n",
            "  Building wheel for pytorch-lightning (setup.py) ... \u001b[?25l\u001b[?25hdone\n",
            "  Created wheel for pytorch-lightning: filename=pytorch_lightning-0.6.0-py3-none-any.whl size=116170 sha256=a0742ac5ccbbaee7dec2c212d67cb32ecaedf812718ed48613c53773ed77eb18\n",
            "  Stored in directory: /root/.cache/pip/wheels/93/ef/a9/a36225b8925748b35d26b1163c31297eda2d86c918072d8e8b\n",
            "  Building wheel for test-tube (setup.py) ... \u001b[?25l\u001b[?25hdone\n",
            "  Created wheel for test-tube: filename=test_tube-0.7.5-py3-none-any.whl size=25356 sha256=a75ff358e6bd29514068cf43444155b59219e50f2279222ed44c1111af2f96e8\n",
            "  Stored in directory: /root/.cache/pip/wheels/1c/50/0d/15b3236957cc18a5c39ec4d4d4d21624f4d4a876756ec17064\n",
            "  Building wheel for sacremoses (setup.py) ... \u001b[?25l\u001b[?25hdone\n",
            "  Created wheel for sacremoses: filename=sacremoses-0.0.53-py3-none-any.whl size=895260 sha256=816514d0267a1e69261780fa0fd4c865ef7ca018cca82b473ad622fcdcf145ed\n",
            "  Stored in directory: /root/.cache/pip/wheels/87/39/dd/a83eeef36d0bf98e7a4d1933a4ad2d660295a40613079bafc9\n",
            "Successfully built pytorch-lightning test-tube sacremoses\n",
            "Installing collected packages: torch, jmespath, botocore, s3transfer, boto3, tokenizers, sentencepiece, sacremoses, transformers, tensorboardX, torchvision, pytorch-lightning, test-tube\n",
            "  Attempting uninstall: torch\n",
            "    Found existing installation: torch 1.11.0+cu113\n",
            "    Uninstalling torch-1.11.0+cu113:\n",
            "      Successfully uninstalled torch-1.11.0+cu113\n",
            "  Attempting uninstall: torchvision\n",
            "    Found existing installation: torchvision 0.12.0+cu113\n",
            "    Uninstalling torchvision-0.12.0+cu113:\n",
            "      Successfully uninstalled torchvision-0.12.0+cu113\n",
            "\u001b[31mERROR: pip's legacy dependency resolver does not consider dependency conflicts when selecting packages. This behaviour is the source of the following dependency conflicts.\n",
            "torchvision 0.4.2 requires torch==1.3.1, but you'll have torch 1.6.0 which is incompatible.\n",
            "torchtext 0.12.0 requires torch==1.11.0, but you'll have torch 1.6.0 which is incompatible.\n",
            "torchaudio 0.11.0+cu113 requires torch==1.11.0, but you'll have torch 1.6.0 which is incompatible.\n",
            "fastai 2.6.3 requires torch<1.12,>=1.7.0, but you'll have torch 1.6.0 which is incompatible.\n",
            "fastai 2.6.3 requires torchvision>=0.8.2, but you'll have torchvision 0.4.2 which is incompatible.\n",
            "botocore 1.27.12 requires urllib3<1.27,>=1.25.4, but you'll have urllib3 1.24.3 which is incompatible.\n",
            "pytorch-lightning 0.6.0 requires future>=0.17.1, but you'll have future 0.16.0 which is incompatible.\u001b[0m\n",
            "Successfully installed boto3-1.24.12 botocore-1.27.12 jmespath-1.0.1 pytorch-lightning-0.6.0 s3transfer-0.6.0 sacremoses-0.0.53 sentencepiece-0.1.96 tensorboardX-1.6 test-tube-0.7.5 tokenizers-0.5.2 torch-1.6.0 torchvision-0.4.2 transformers-2.5.1\n",
            "Looking in indexes: https://pypi.org/simple, https://us-python.pkg.dev/colab-wheels/public/simple/\n",
            "Collecting essentia\n",
            "  Downloading essentia-2.1b6.dev778-cp37-cp37m-manylinux_2_17_x86_64.manylinux2014_x86_64.whl (13.6 MB)\n",
            "\u001b[K     |████████████████████████████████| 13.6 MB 4.8 MB/s \n",
            "\u001b[?25hRequirement already satisfied: six in /usr/local/lib/python3.7/dist-packages (from essentia) (1.15.0)\n",
            "Requirement already satisfied: numpy>=1.8.2 in /usr/local/lib/python3.7/dist-packages (from essentia) (1.21.6)\n",
            "Requirement already satisfied: pyyaml in /usr/local/lib/python3.7/dist-packages (from essentia) (3.13)\n",
            "Installing collected packages: essentia\n",
            "Successfully installed essentia-2.1b6.dev778\n"
          ]
        }
      ]
    },
    {
      "cell_type": "code",
      "source": [
        "!mkdir ./checkpoints\n",
        "!mkdir ./music\n",
        "\n",
        "%cd ./checkpoints\n",
        "!gdown --id 1BlqXygWtOd9lpGgkdmAUU3eV7rV1fQRR\n",
        "%cd ..\n"
      ],
      "metadata": {
        "id": "5tYm3jQscgEZ",
        "outputId": "3a47fcab-9b2b-4926-bb18-e7e882280593",
        "colab": {
          "base_uri": "https://localhost:8080/"
        }
      },
      "execution_count": 3,
      "outputs": [
        {
          "output_type": "stream",
          "name": "stdout",
          "text": [
            "/content/DanceRevolution/checkpoints\n",
            "/usr/local/lib/python3.7/dist-packages/gdown/cli.py:131: FutureWarning: Option `--id` was deprecated in version 4.3.1 and will be removed in 5.0. You don't need to pass it anymore to use a file ID.\n",
            "  category=FutureWarning,\n",
            "Downloading...\n",
            "From: https://drive.google.com/uc?id=1BlqXygWtOd9lpGgkdmAUU3eV7rV1fQRR\n",
            "To: /content/DanceRevolution/checkpoints/epoch_5500.pt\n",
            "100% 92.3M/92.3M [00:00<00:00, 147MB/s]\n",
            "/content/DanceRevolution\n"
          ]
        }
      ]
    },
    {
      "cell_type": "code",
      "source": [
        "!python3 ./inference.py --test_dir ./music/ChikiBang --output_dir ./outputs/demo_song --model ./checkpoints/epoch_5500.pt --dance_num 6"
      ],
      "metadata": {
        "colab": {
          "base_uri": "https://localhost:8080/"
        },
        "id": "jYe3wLqHRXA1",
        "outputId": "7a9f8857-c8a7-4536-b254-c3749fef4346"
      },
      "execution_count": null,
      "outputs": [
        {
          "metadata": {
            "tags": null
          },
          "name": "stdout",
          "output_type": "stream",
          "text": [
            "\u001b[0;32m[   INFO   ] \u001b[0mMusicExtractorSVM: no classifier models were configured by default\n",
            "---------- Extract features from raw audio ----------\n",
            "Process -> ./music/ChikiBang/Part1.m4a\n",
            "(20, 1811) -> mfcc\n",
            "(20, 1811) -> mfcc_delta\n",
            "(12, 1811) -> chroma_cqt_harmonic\n",
            "/usr/local/lib/python3.7/dist-packages/librosa/filters.py:239: UserWarning: Empty filters detected in mel frequency basis. Some channels will produce empty responses. Try increasing your sampling rate (and fmax) or reducing n_mels.\n",
            "  \"Empty filters detected in mel frequency basis. \"\n",
            "(1, 1811) -> onset_env\n",
            "(384, 1811) -> tempogram\n",
            "(1, 1811) -> beats_feature\n",
            "acoustic feature -> (1811, 438)\n",
            "Process -> ./music/ChikiBang/Part2.m4a\n",
            "(20, 1800) -> mfcc\n",
            "(20, 1800) -> mfcc_delta\n",
            "(12, 1800) -> chroma_cqt_harmonic\n",
            "(1, 1800) -> onset_env\n",
            "(384, 1800) -> tempogram\n",
            "(1, 1800) -> beats_feature\n",
            "acoustic feature -> (1800, 438)\n",
            "Process -> ./music/ChikiBang/Part3.m4a\n",
            "(20, 1804) -> mfcc\n",
            "(20, 1804) -> mfcc_delta\n",
            "(12, 1804) -> chroma_cqt_harmonic\n",
            "(1, 1804) -> onset_env\n",
            "(384, 1804) -> tempogram\n",
            "(1, 1804) -> beats_feature\n",
            "acoustic feature -> (1804, 438)\n",
            "Process -> ./music/ChikiBang/Part4.m4a\n",
            "(20, 669) -> mfcc\n",
            "(20, 669) -> mfcc_delta\n",
            "(12, 669) -> chroma_cqt_harmonic\n",
            "(1, 669) -> onset_env\n",
            "(384, 669) -> tempogram\n",
            "(1, 669) -> beats_feature\n",
            "acoustic feature -> (669, 438)\n",
            "Loaded model args: Namespace(batch_size=32, condition_step=10, cuda=True, d_frame_vec=438, d_inner=1024, d_k=64, d_model=200, d_pose_vec=50, d_v=64, data_type='2D', dropout=0.1, epoch=10000, frame_emb_size=200, lambda_v=0.01, log_per_updates=1, lr=0.0001, max_seq_len=4500, n_head=8, n_layers=1, output_dir='checkpoints/layers1_win900_schedule100_condition10_detach', pose_emb_size=50, save_per_epochs=500, seed=1234, seq_len=900, sliding_windown_size=900, tensorboard=True, test_dir='../data/test_1min', train_dir='../data/train_1min')\n",
            "[Info] Trained model loaded.\n",
            "Generating dance poses: 100% 8/8 [00:07<00:00,  1.08it/s]\n",
            "finished writing to json 00\n",
            "finished writing to json 01\n",
            "finished writing to json 02\n",
            "finished writing to json 03\n",
            "finished writing to json 04\n",
            "finished writing to json 05\n",
            "finished writing to json 00\n",
            "finished writing to json 01\n",
            "finished writing to json 02\n",
            "finished writing to json 03\n",
            "finished writing to json 04\n",
            "finished writing to json 05\n",
            "finished writing to json 00\n",
            "finished writing to json 01\n",
            "finished writing to json 02\n",
            "finished writing to json 03\n",
            "finished writing to json 04\n",
            "finished writing to json 05\n",
            "finished writing to json 00\n",
            "finished writing to json 01\n",
            "finished writing to json 02\n",
            "finished writing to json 03\n",
            "finished writing to json 04\n",
            "finished writing to json 05\n"
          ]
        }
      ]
    }
  ]
}